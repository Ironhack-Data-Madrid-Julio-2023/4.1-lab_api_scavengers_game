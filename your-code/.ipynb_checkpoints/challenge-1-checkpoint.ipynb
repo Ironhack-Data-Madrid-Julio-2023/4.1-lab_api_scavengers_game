{
 "cells": [
  {
   "cell_type": "code",
   "execution_count": 1,
   "metadata": {},
   "outputs": [],
   "source": [
    "import json\n",
    "import requests"
   ]
  },
  {
   "cell_type": "markdown",
   "metadata": {},
   "source": [
    "Only if you're using your environmental variable eith the `.env` file, import/install the following modules. Otherwise it is not necessary:\n",
    "\n",
    "https://pypi.org/project/python-dotenv/"
   ]
  },
  {
   "cell_type": "code",
   "execution_count": 2,
   "metadata": {},
   "outputs": [],
   "source": [
    "import os\n",
    "from dotenv import load_dotenv"
   ]
  },
  {
   "cell_type": "code",
   "execution_count": 7,
   "metadata": {},
   "outputs": [
    {
     "name": "stdout",
     "output_type": "stream",
     "text": [
      "Requirement already satisfied: python-dotenv in c:\\users\\usuario\\anaconda3\\lib\\site-packages (1.0.0)\n",
      "Note: you may need to restart the kernel to use updated packages.\n"
     ]
    }
   ],
   "source": [
    "pip install python-dotenv"
   ]
  },
  {
   "cell_type": "code",
   "execution_count": 8,
   "metadata": {},
   "outputs": [
    {
     "data": {
      "text/plain": [
       "False"
      ]
     },
     "execution_count": 8,
     "metadata": {},
     "output_type": "execute_result"
    }
   ],
   "source": [
    "load_dotenv()   #Cuando llamas a la función load_dotenv(), el archivo .env se carga.\n",
    "#si da 'False'es que no ha podido cargarse:\n",
    "# Mirar si está en la mismo directorio que tu script o de proporcionar la ruta correcta al archivo si está en un directorio diferente.\n",
    "# Mirar si está instalada la biblioteca: 'pip install python-dotenv'."
   ]
  },
  {
   "cell_type": "code",
   "execution_count": 9,
   "metadata": {},
   "outputs": [],
   "source": [
    "github = os.getenv(\"token\")"
   ]
  },
  {
   "cell_type": "markdown",
   "metadata": {},
   "source": [
    "# Challenge 1: Fork Languages\n",
    "\n",
    "You will find out how many programming languages are used among all the forks created from the main lab repo of your bootcamp. Assuming the main lab repo is ironhack-datalabs/datamad1020-rev, you will:\n",
    "\n",
    "1. Obtain the full list of forks created from the main lab repo via Github API.\n",
    "\n",
    "2. Loop the JSON response to find out the language attribute of each fork. Use an array to store the language attributes of each fork.\n",
    "\n",
    "Hint: Each language should appear only once in your array.\n",
    "\n",
    "3. Print the language array. It should be something like:\n",
    "\n",
    "[\"Python\", \"Jupyter Notebook\", \"HTML\"]\n"
   ]
  },
  {
   "cell_type": "markdown",
   "metadata": {},
   "source": [
    "**HINT:**: Create a list with every **language_url** you find in every fork "
   ]
  },
  {
   "cell_type": "markdown",
   "metadata": {},
   "source": [
    "⚠️ **Remember to limit your output before submission**."
   ]
  },
  {
   "cell_type": "code",
   "execution_count": 10,
   "metadata": {},
   "outputs": [
    {
     "data": {
      "text/plain": [
       "['https://github.com/queraltic/datamad1020-rev',\n",
       " 'https://github.com/LuisSerranoCerame/datamad1020-rev',\n",
       " 'https://github.com/silviarico/datamad1020-rev',\n",
       " 'https://github.com/BlancaRibas/datamad1020-rev',\n",
       " 'https://github.com/acamposla/datamad1020-rev',\n",
       " 'https://github.com/PaolaKarina/datamad1020-rev',\n",
       " 'https://github.com/VictorRodriguezIronhack/datamad1020-rev',\n",
       " 'https://github.com/sonia-quintanar/datamad1020-rev',\n",
       " 'https://github.com/AnaMA96/datamad1020-rev',\n",
       " 'https://github.com/datamad-instructor/datamad1020-rev',\n",
       " 'https://github.com/rafadedubra/datamad1020-rev',\n",
       " 'https://github.com/Nuria-Pe/datamad1020-rev',\n",
       " 'https://github.com/SergioCaler0/datamad1020-rev',\n",
       " 'https://github.com/LucianaLescano/datamad1020-rev',\n",
       " 'https://github.com/Mario-Sainz/datamad1020-rev',\n",
       " 'https://github.com/juanmarin00/datamad1020-rev',\n",
       " 'https://github.com/JoseManuel-G/datamad1020-rev',\n",
       " 'https://github.com/jesus-perez-366/datamad1020-rev',\n",
       " 'https://github.com/sgonzalainen/datamad1020-rev',\n",
       " 'https://github.com/Pptrv/datamad1020-rev',\n",
       " 'https://github.com/Marxess/datamad1020-rev',\n",
       " 'https://github.com/BlueJotas/datamad1020-rev',\n",
       " 'https://github.com/patri-carrasco/datamad1020-rev',\n",
       " 'https://github.com/jvazquezgalvezlp/datamad1020-rev',\n",
       " 'https://github.com/leticia-sobrino/datamad1020-rev',\n",
       " 'https://github.com/JaimeCalcedo/datamad1020-rev']"
      ]
     },
     "execution_count": 10,
     "metadata": {},
     "output_type": "execute_result"
    }
   ],
   "source": [
    "import requests\n",
    "\n",
    "# Obtener la lista completa de forks\n",
    "url = \"https://api.github.com/repos/ironhack-datalabs/datamad1020-rev/forks\"\n",
    "response = requests.get(url)\n",
    "forks = response.json()\n",
    "\n",
    "# Imprimir la lista de forks\n",
    "forks_list = [fork[\"html_url\"] for fork in forks]\n",
    "forks_list"
   ]
  },
  {
   "cell_type": "code",
   "execution_count": 12,
   "metadata": {},
   "outputs": [],
   "source": [
    "import requests\n",
    "\n",
    "#Obtener los atributos de lenguaje de cada fork\n",
    "languages_url = \"https://api.github.com/repos/ironhack-datalabs/datamad1020-rev/languages\"\n",
    "response = requests.get(languages_url)\n",
    "languages_data = response.json()\n",
    "\n",
    "#Convertir los datos en una lista de lenguajes\n",
    "languages = list(languages_data.keys())"
   ]
  },
  {
   "cell_type": "code",
   "execution_count": 13,
   "metadata": {},
   "outputs": [
    {
     "data": {
      "text/plain": [
       "['Jupyter Notebook', 'HTML', 'Python']"
      ]
     },
     "execution_count": 13,
     "metadata": {},
     "output_type": "execute_result"
    }
   ],
   "source": [
    "languages"
   ]
  },
  {
   "cell_type": "code",
   "execution_count": null,
   "metadata": {},
   "outputs": [],
   "source": []
  }
 ],
 "metadata": {
  "kernelspec": {
   "display_name": "Python 3 (ipykernel)",
   "language": "python",
   "name": "python3"
  },
  "language_info": {
   "codemirror_mode": {
    "name": "ipython",
    "version": 3
   },
   "file_extension": ".py",
   "mimetype": "text/x-python",
   "name": "python",
   "nbconvert_exporter": "python",
   "pygments_lexer": "ipython3",
   "version": "3.10.9"
  },
  "toc": {
   "base_numbering": 1,
   "nav_menu": {},
   "number_sections": true,
   "sideBar": true,
   "skip_h1_title": true,
   "title_cell": "Table of Contents",
   "title_sidebar": "Contents",
   "toc_cell": false,
   "toc_position": {},
   "toc_section_display": true,
   "toc_window_display": false
  }
 },
 "nbformat": 4,
 "nbformat_minor": 2
}
