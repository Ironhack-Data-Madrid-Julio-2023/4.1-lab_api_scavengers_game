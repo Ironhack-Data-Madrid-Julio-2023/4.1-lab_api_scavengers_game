{
 "cells": [
  {
   "cell_type": "markdown",
   "id": "threaded-asbestos",
   "metadata": {},
   "source": [
    "# Challenge 2: Count Commits\n",
    "\n",
    "Count how many commits were made in the past week.\n",
    "\n",
    "Obtain all the commits made in the past week via API, which is a JSON array that contains multiple commit objects.\n",
    "\n",
    "Count how many commit objects are contained in the array."
   ]
  },
  {
   "cell_type": "markdown",
   "id": "norwegian-praise",
   "metadata": {},
   "source": [
    "⚠️ **Remember to limit your output before submission**."
   ]
  },
  {
   "cell_type": "code",
   "execution_count": 1,
   "id": "developing-printing",
   "metadata": {},
   "outputs": [],
   "source": [
    "#Your code\n",
    "import json\n",
    "\n",
    "import requests as req"
   ]
  },
  {
   "cell_type": "code",
   "execution_count": 2,
   "id": "3f667b54",
   "metadata": {},
   "outputs": [
    {
     "name": "stdout",
     "output_type": "stream",
     "text": [
      "Requirement already satisfied: python-dotenv in c:\\users\\demia\\anaconda3\\lib\\site-packages (1.0.0)\n"
     ]
    }
   ],
   "source": [
    "!pip install python-dotenv"
   ]
  },
  {
   "cell_type": "code",
   "execution_count": 3,
   "id": "d4cdd0aa",
   "metadata": {},
   "outputs": [],
   "source": [
    "url = 'https://github.com/Ironhack-Data-Madrid-Julio-2023'"
   ]
  },
  {
   "cell_type": "code",
   "execution_count": 4,
   "id": "b5572ed7",
   "metadata": {},
   "outputs": [],
   "source": [
    "res = req.get(url)"
   ]
  },
  {
   "cell_type": "code",
   "execution_count": 5,
   "id": "f68c7a29",
   "metadata": {},
   "outputs": [],
   "source": [
    "from password import TOKEN"
   ]
  },
  {
   "cell_type": "code",
   "execution_count": 6,
   "id": "e9ec8f18",
   "metadata": {},
   "outputs": [],
   "source": [
    "from password import TOKEN\n",
    "\n",
    "HEADER={'Authorization': 'token ' + TOKEN}"
   ]
  },
  {
   "cell_type": "code",
   "execution_count": 7,
   "id": "be62635a",
   "metadata": {},
   "outputs": [],
   "source": [
    "import os\n",
    "\n",
    "github_token = os.getenv(\"token\")"
   ]
  },
  {
   "cell_type": "code",
   "execution_count": 8,
   "id": "creative-stable",
   "metadata": {},
   "outputs": [],
   "source": [
    "# Example: print(variable[:10]) "
   ]
  },
  {
   "cell_type": "code",
   "execution_count": 9,
   "id": "ongoing-taylor",
   "metadata": {},
   "outputs": [
    {
     "name": "stdout",
     "output_type": "stream",
     "text": [
      "['https://github.com/Ironhack-Data-Madrid-Julio-2023/4.1-lab_api_scavengers_game/commit/92c7deb722a563391dcb1e5e3d2d5f0e4d81d8b1']\n"
     ]
    }
   ],
   "source": [
    "import requests\n",
    "\n",
    "url = 'https://api.github.com/repos/Ironhack-Data-Madrid-Julio-2023/4.1-lab_api_scavengers_game/commits'\n",
    "\n",
    "response = requests.get(url)\n",
    "\n",
    "if response.status_code == 200:\n",
    "    commits = response.json()\n",
    "    commit_list = [commit['html_url'] for commit in commits]\n",
    "    print(commit_list)\n",
    "else:\n",
    "    print(f\"Error: {response.status_code}\")"
   ]
  },
  {
   "cell_type": "code",
   "execution_count": 13,
   "id": "2092b3b7",
   "metadata": {},
   "outputs": [
    {
     "name": "stdout",
     "output_type": "stream",
     "text": [
      "Number of commits: 6\n"
     ]
    }
   ],
   "source": [
    "\n",
    "url = 'https://api.github.com/repos/DemianFigueiredo/shark_attack/commits'\n",
    "\n",
    "response = requests.get(url)\n",
    "\n",
    "if response.status_code == 200:\n",
    "    commits = response.json()\n",
    "    commit_list = [commit['html_url'] for commit in commits]\n",
    "    print(f\"Number of commits: {len(commit_list)}\")\n",
    "else:\n",
    "    print(f\"Error: {response.status_code}\")"
   ]
  },
  {
   "cell_type": "code",
   "execution_count": 14,
   "id": "736152df",
   "metadata": {},
   "outputs": [
    {
     "name": "stdout",
     "output_type": "stream",
     "text": [
      "['https://github.com/DemianFigueiredo/shark_attack/commit/698ff172facaf74571c117a5b7bdb5d593c3ea37', 'https://github.com/DemianFigueiredo/shark_attack/commit/61ccf86b52d3cdaff76c3e10421cd4256ae09bc9', 'https://github.com/DemianFigueiredo/shark_attack/commit/59735f1149598885113d7dc54bb973142f4092d8', 'https://github.com/DemianFigueiredo/shark_attack/commit/7682283a7483230ecfc617d1a6e9124f0c61be04', 'https://github.com/DemianFigueiredo/shark_attack/commit/bdccbbe1a652d1180d68b58c7935cbbd7e359bd6', 'https://github.com/DemianFigueiredo/shark_attack/commit/b1bedc7f5f07b8340d67957866179f9817bcc3aa']\n"
     ]
    }
   ],
   "source": [
    "url = 'https://api.github.com/repos/DemianFigueiredo/shark_attack/commits'\n",
    "\n",
    "response = requests.get(url)\n",
    "\n",
    "if response.status_code == 200:\n",
    "    commits = response.json()\n",
    "    commit_list = [commit['html_url'] for commit in commits]\n",
    "    print(commit_list)\n",
    "else:\n",
    "    print(f\"Error: {response.status_code}\")"
   ]
  },
  {
   "cell_type": "code",
   "execution_count": null,
   "id": "4fe0ea07",
   "metadata": {},
   "outputs": [],
   "source": []
  }
 ],
 "metadata": {
  "kernelspec": {
   "display_name": "Python 3 (ipykernel)",
   "language": "python",
   "name": "python3"
  },
  "language_info": {
   "codemirror_mode": {
    "name": "ipython",
    "version": 3
   },
   "file_extension": ".py",
   "mimetype": "text/x-python",
   "name": "python",
   "nbconvert_exporter": "python",
   "pygments_lexer": "ipython3",
   "version": "3.10.9"
  },
  "toc": {
   "base_numbering": 1,
   "nav_menu": {},
   "number_sections": true,
   "sideBar": true,
   "skip_h1_title": true,
   "title_cell": "Table of Contents",
   "title_sidebar": "Contents",
   "toc_cell": false,
   "toc_position": {
    "height": "calc(100% - 180px)",
    "left": "10px",
    "top": "150px",
    "width": "288px"
   },
   "toc_section_display": true,
   "toc_window_display": true
  }
 },
 "nbformat": 4,
 "nbformat_minor": 5
}
