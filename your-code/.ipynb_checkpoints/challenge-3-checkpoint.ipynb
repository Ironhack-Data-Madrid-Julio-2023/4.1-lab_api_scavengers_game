{
 "cells": [
  {
   "cell_type": "markdown",
   "id": "defensive-clock",
   "metadata": {},
   "source": [
    "# Challenge 3: Hidden Cold Joke\n",
    "\n",
    "Using Python, call Github API to find out the cold joke contained in the 24 secret files in the following repo:\n",
    "\n",
    "https://github.com/ironhack-datalabs/scavenger\n",
    "\n",
    "The filenames of the secret files contain .scavengerhunt and they are scattered in different directories of this repo. The secret files are named from .0001.scavengerhunt to .0024.scavengerhunt. They are scattered randomly throughout this repo. You need to search for these files by calling the Github API, not searching the local files on your computer.\n",
    "\n",
    "\n",
    "After you find out the secrete files:\n",
    "\n",
    "Sort the filenames ascendingly.\n",
    "\n",
    "Read the content of each secret files into an array of strings.\n",
    "\n",
    "Concatenate the strings in the array separating each two with a whitespace.\n",
    "\n",
    "Print out the joke."
   ]
  },
  {
   "cell_type": "markdown",
   "id": "universal-length",
   "metadata": {},
   "source": [
    "⚠️ **Remember to limit your output before submission**."
   ]
  },
  {
   "cell_type": "code",
   "execution_count": 8,
   "id": "d45c1340",
   "metadata": {
    "scrolled": true
   },
   "outputs": [
    {
     "data": {
      "text/plain": [
       "{'name': '.gitignore',\n",
       " 'path': '.gitignore',\n",
       " 'sha': 'e43b0f988953ae3a84b00331d0ccf5f7d51cb3cf',\n",
       " 'size': 10,\n",
       " 'url': 'https://api.github.com/repos/ironhack-datalabs/scavenger/contents/.gitignore?ref=master',\n",
       " 'html_url': 'https://github.com/ironhack-datalabs/scavenger/blob/master/.gitignore',\n",
       " 'git_url': 'https://api.github.com/repos/ironhack-datalabs/scavenger/git/blobs/e43b0f988953ae3a84b00331d0ccf5f7d51cb3cf',\n",
       " 'download_url': 'https://raw.githubusercontent.com/ironhack-datalabs/scavenger/master/.gitignore',\n",
       " 'type': 'file',\n",
       " '_links': {'self': 'https://api.github.com/repos/ironhack-datalabs/scavenger/contents/.gitignore?ref=master',\n",
       "  'git': 'https://api.github.com/repos/ironhack-datalabs/scavenger/git/blobs/e43b0f988953ae3a84b00331d0ccf5f7d51cb3cf',\n",
       "  'html': 'https://github.com/ironhack-datalabs/scavenger/blob/master/.gitignore'}}"
      ]
     },
     "execution_count": 8,
     "metadata": {},
     "output_type": "execute_result"
    }
   ],
   "source": [
    "import requests\n",
    "\n",
    "response = requests.get('https://api.github.com/repos/ironhack-datalabs/scavenger/contents?extension:scavengerhunt')\n",
    "contents = response.json()\n",
    "contents[0]\n",
    "\n"
   ]
  },
  {
   "cell_type": "code",
   "execution_count": 9,
   "id": "e1aa3433",
   "metadata": {},
   "outputs": [
    {
     "data": {
      "text/plain": [
       "{'name': '.gitignore',\n",
       " 'path': '.gitignore',\n",
       " 'sha': 'e43b0f988953ae3a84b00331d0ccf5f7d51cb3cf',\n",
       " 'size': 10,\n",
       " 'url': 'https://api.github.com/repos/ironhack-datalabs/scavenger/contents/.gitignore?ref=master',\n",
       " 'html_url': 'https://github.com/ironhack-datalabs/scavenger/blob/master/.gitignore',\n",
       " 'git_url': 'https://api.github.com/repos/ironhack-datalabs/scavenger/git/blobs/e43b0f988953ae3a84b00331d0ccf5f7d51cb3cf',\n",
       " 'download_url': 'https://raw.githubusercontent.com/ironhack-datalabs/scavenger/master/.gitignore',\n",
       " 'type': 'file',\n",
       " 'content': 'LkRTX1N0b3JlCg==\\n',\n",
       " 'encoding': 'base64',\n",
       " '_links': {'self': 'https://api.github.com/repos/ironhack-datalabs/scavenger/contents/.gitignore?ref=master',\n",
       "  'git': 'https://api.github.com/repos/ironhack-datalabs/scavenger/git/blobs/e43b0f988953ae3a84b00331d0ccf5f7d51cb3cf',\n",
       "  'html': 'https://github.com/ironhack-datalabs/scavenger/blob/master/.gitignore'}}"
      ]
     },
     "execution_count": 9,
     "metadata": {},
     "output_type": "execute_result"
    }
   ],
   "source": [
    "requests.get(contents[0]['url']).json()"
   ]
  },
  {
   "cell_type": "code",
   "execution_count": null,
   "id": "d155d5eb",
   "metadata": {},
   "outputs": [],
   "source": [
    "# lo dejo para otro momento con más tiempo."
   ]
  },
  {
   "cell_type": "code",
   "execution_count": null,
   "id": "cce4cfb2",
   "metadata": {},
   "outputs": [],
   "source": []
  },
  {
   "cell_type": "code",
   "execution_count": null,
   "id": "da45f5cb",
   "metadata": {},
   "outputs": [],
   "source": []
  },
  {
   "cell_type": "code",
   "execution_count": null,
   "id": "6982c5ec",
   "metadata": {},
   "outputs": [],
   "source": [
    "\n"
   ]
  },
  {
   "cell_type": "code",
   "execution_count": null,
   "id": "0948bf02",
   "metadata": {},
   "outputs": [],
   "source": []
  },
  {
   "cell_type": "code",
   "execution_count": null,
   "id": "static-stopping",
   "metadata": {},
   "outputs": [],
   "source": [
    "# Example: print(variable[:10]) "
   ]
  }
 ],
 "metadata": {
  "kernelspec": {
   "display_name": "Python 3 (ipykernel)",
   "language": "python",
   "name": "python3"
  },
  "language_info": {
   "codemirror_mode": {
    "name": "ipython",
    "version": 3
   },
   "file_extension": ".py",
   "mimetype": "text/x-python",
   "name": "python",
   "nbconvert_exporter": "python",
   "pygments_lexer": "ipython3",
   "version": "3.10.9"
  },
  "toc": {
   "base_numbering": 1,
   "nav_menu": {},
   "number_sections": true,
   "sideBar": true,
   "skip_h1_title": true,
   "title_cell": "Table of Contents",
   "title_sidebar": "Contents",
   "toc_cell": false,
   "toc_position": {},
   "toc_section_display": true,
   "toc_window_display": true
  }
 },
 "nbformat": 4,
 "nbformat_minor": 5
}
