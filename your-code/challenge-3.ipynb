{
 "cells": [
  {
   "cell_type": "markdown",
   "id": "defensive-clock",
   "metadata": {},
   "source": [
    "# Challenge 3: Hidden Cold Joke\n",
    "\n",
    "Using Python, call Github API to find out the cold joke contained in the 24 secret files in the following repo:\n",
    "\n",
    "https://github.com/ironhack-datalabs/scavenger\n",
    "\n",
    "The filenames of the secret files contain .scavengerhunt and they are scattered in different directories of this repo. The secret files are named from .0001.scavengerhunt to .0024.scavengerhunt. They are scattered randomly throughout this repo. You need to search for these files by calling the Github API, not searching the local files on your computer.\n",
    "\n",
    "\n",
    "After you find out the secrete files:\n",
    "\n",
    "Sort the filenames ascendingly.\n",
    "\n",
    "Read the content of each secret files into an array of strings.\n",
    "\n",
    "Concatenate the strings in the array separating each two with a whitespace.\n",
    "\n",
    "Print out the joke."
   ]
  },
  {
   "cell_type": "markdown",
   "id": "universal-length",
   "metadata": {},
   "source": [
    "⚠️ **Remember to limit your output before submission**."
   ]
  },
  {
   "cell_type": "code",
   "execution_count": 1,
   "id": "toxic-trading",
   "metadata": {},
   "outputs": [],
   "source": [
    "# Your code"
   ]
  },
  {
   "cell_type": "code",
   "execution_count": 2,
   "id": "static-stopping",
   "metadata": {},
   "outputs": [],
   "source": [
    "# Example: print(variable[:10]) "
   ]
  },
  {
   "cell_type": "code",
   "execution_count": 1,
   "id": "cdaa1f25",
   "metadata": {},
   "outputs": [],
   "source": [
    "import json\n",
    "import requests as req\n",
    "import pandas as pd"
   ]
  },
  {
   "cell_type": "code",
   "execution_count": 2,
   "id": "37150c44",
   "metadata": {},
   "outputs": [],
   "source": [
    "with open('../password.txt', 'r') as file:\n",
    "    pass_=file.read()"
   ]
  },
  {
   "cell_type": "code",
   "execution_count": 3,
   "id": "40291474",
   "metadata": {},
   "outputs": [],
   "source": [
    "HEADER={'Authorization': 'token ' + pass_}"
   ]
  },
  {
   "cell_type": "code",
   "execution_count": 16,
   "id": "02345fbe",
   "metadata": {},
   "outputs": [],
   "source": [
    "url = 'https://api.github.com/repos/ironhack-datalabs/scavenger/contents?extension:scavengerhunt'"
   ]
  },
  {
   "cell_type": "code",
   "execution_count": 17,
   "id": "560949ec",
   "metadata": {},
   "outputs": [
    {
     "data": {
      "text/plain": [
       "<Response [200]>"
      ]
     },
     "execution_count": 17,
     "metadata": {},
     "output_type": "execute_result"
    }
   ],
   "source": [
    "res_git = req.get(url, headers=HEADER)   # aqui estoy registrado (teneis que hacer esto para el lab)\n",
    "\n",
    "res_git"
   ]
  },
  {
   "cell_type": "code",
   "execution_count": 28,
   "id": "2aeeaa5b",
   "metadata": {},
   "outputs": [
    {
     "data": {
      "text/plain": [
       "{'name': '15024',\n",
       " 'path': '15024',\n",
       " 'sha': '2945e51c87ad5da893c954afcf092f06343bbb7d',\n",
       " 'size': 0,\n",
       " 'url': 'https://api.github.com/repos/ironhack-datalabs/scavenger/contents/15024?ref=master',\n",
       " 'html_url': 'https://github.com/ironhack-datalabs/scavenger/tree/master/15024',\n",
       " 'git_url': 'https://api.github.com/repos/ironhack-datalabs/scavenger/git/trees/2945e51c87ad5da893c954afcf092f06343bbb7d',\n",
       " 'download_url': None,\n",
       " 'type': 'dir',\n",
       " '_links': {'self': 'https://api.github.com/repos/ironhack-datalabs/scavenger/contents/15024?ref=master',\n",
       "  'git': 'https://api.github.com/repos/ironhack-datalabs/scavenger/git/trees/2945e51c87ad5da893c954afcf092f06343bbb7d',\n",
       "  'html': 'https://github.com/ironhack-datalabs/scavenger/tree/master/15024'}}"
      ]
     },
     "execution_count": 28,
     "metadata": {},
     "output_type": "execute_result"
    }
   ],
   "source": [
    "res_git.json()[1]"
   ]
  },
  {
   "cell_type": "code",
   "execution_count": 29,
   "id": "69690c57",
   "metadata": {},
   "outputs": [
    {
     "data": {
      "text/plain": [
       "[{'name': '.0006.scavengerhunt',\n",
       "  'path': '15024/.0006.scavengerhunt',\n",
       "  'sha': '1c9064284a24b3486015eafdb391b141c27ada2b',\n",
       "  'size': 3,\n",
       "  'url': 'https://api.github.com/repos/ironhack-datalabs/scavenger/contents/15024/.0006.scavengerhunt?ref=master',\n",
       "  'html_url': 'https://github.com/ironhack-datalabs/scavenger/blob/master/15024/.0006.scavengerhunt',\n",
       "  'git_url': 'https://api.github.com/repos/ironhack-datalabs/scavenger/git/blobs/1c9064284a24b3486015eafdb391b141c27ada2b',\n",
       "  'download_url': 'https://raw.githubusercontent.com/ironhack-datalabs/scavenger/master/15024/.0006.scavengerhunt',\n",
       "  'type': 'file',\n",
       "  '_links': {'self': 'https://api.github.com/repos/ironhack-datalabs/scavenger/contents/15024/.0006.scavengerhunt?ref=master',\n",
       "   'git': 'https://api.github.com/repos/ironhack-datalabs/scavenger/git/blobs/1c9064284a24b3486015eafdb391b141c27ada2b',\n",
       "   'html': 'https://github.com/ironhack-datalabs/scavenger/blob/master/15024/.0006.scavengerhunt'}},\n",
       " {'name': '40',\n",
       "  'path': '15024/40',\n",
       "  'sha': 'e69de29bb2d1d6434b8b29ae775ad8c2e48c5391',\n",
       "  'size': 0,\n",
       "  'url': 'https://api.github.com/repos/ironhack-datalabs/scavenger/contents/15024/40?ref=master',\n",
       "  'html_url': 'https://github.com/ironhack-datalabs/scavenger/blob/master/15024/40',\n",
       "  'git_url': 'https://api.github.com/repos/ironhack-datalabs/scavenger/git/blobs/e69de29bb2d1d6434b8b29ae775ad8c2e48c5391',\n",
       "  'download_url': 'https://raw.githubusercontent.com/ironhack-datalabs/scavenger/master/15024/40',\n",
       "  'type': 'file',\n",
       "  '_links': {'self': 'https://api.github.com/repos/ironhack-datalabs/scavenger/contents/15024/40?ref=master',\n",
       "   'git': 'https://api.github.com/repos/ironhack-datalabs/scavenger/git/blobs/e69de29bb2d1d6434b8b29ae775ad8c2e48c5391',\n",
       "   'html': 'https://github.com/ironhack-datalabs/scavenger/blob/master/15024/40'}},\n",
       " {'name': '74',\n",
       "  'path': '15024/74',\n",
       "  'sha': 'e69de29bb2d1d6434b8b29ae775ad8c2e48c5391',\n",
       "  'size': 0,\n",
       "  'url': 'https://api.github.com/repos/ironhack-datalabs/scavenger/contents/15024/74?ref=master',\n",
       "  'html_url': 'https://github.com/ironhack-datalabs/scavenger/blob/master/15024/74',\n",
       "  'git_url': 'https://api.github.com/repos/ironhack-datalabs/scavenger/git/blobs/e69de29bb2d1d6434b8b29ae775ad8c2e48c5391',\n",
       "  'download_url': 'https://raw.githubusercontent.com/ironhack-datalabs/scavenger/master/15024/74',\n",
       "  'type': 'file',\n",
       "  '_links': {'self': 'https://api.github.com/repos/ironhack-datalabs/scavenger/contents/15024/74?ref=master',\n",
       "   'git': 'https://api.github.com/repos/ironhack-datalabs/scavenger/git/blobs/e69de29bb2d1d6434b8b29ae775ad8c2e48c5391',\n",
       "   'html': 'https://github.com/ironhack-datalabs/scavenger/blob/master/15024/74'}},\n",
       " {'name': '99',\n",
       "  'path': '15024/99',\n",
       "  'sha': 'e69de29bb2d1d6434b8b29ae775ad8c2e48c5391',\n",
       "  'size': 0,\n",
       "  'url': 'https://api.github.com/repos/ironhack-datalabs/scavenger/contents/15024/99?ref=master',\n",
       "  'html_url': 'https://github.com/ironhack-datalabs/scavenger/blob/master/15024/99',\n",
       "  'git_url': 'https://api.github.com/repos/ironhack-datalabs/scavenger/git/blobs/e69de29bb2d1d6434b8b29ae775ad8c2e48c5391',\n",
       "  'download_url': 'https://raw.githubusercontent.com/ironhack-datalabs/scavenger/master/15024/99',\n",
       "  'type': 'file',\n",
       "  '_links': {'self': 'https://api.github.com/repos/ironhack-datalabs/scavenger/contents/15024/99?ref=master',\n",
       "   'git': 'https://api.github.com/repos/ironhack-datalabs/scavenger/git/blobs/e69de29bb2d1d6434b8b29ae775ad8c2e48c5391',\n",
       "   'html': 'https://github.com/ironhack-datalabs/scavenger/blob/master/15024/99'}}]"
      ]
     },
     "execution_count": 29,
     "metadata": {},
     "output_type": "execute_result"
    }
   ],
   "source": [
    "url = 'https://api.github.com/repos/ironhack-datalabs/scavenger/contents/15024?ref=master'\n",
    "res = req.get(url, headers=HEADER)   # aqui estoy registrado (teneis que hacer esto para el lab)\n",
    "\n",
    "res.json()"
   ]
  },
  {
   "cell_type": "code",
   "execution_count": 42,
   "id": "c51a17d6",
   "metadata": {},
   "outputs": [
    {
     "data": {
      "text/plain": [
       "'of\\n'"
      ]
     },
     "execution_count": 42,
     "metadata": {},
     "output_type": "execute_result"
    }
   ],
   "source": [
    "url ='https://raw.githubusercontent.com/ironhack-datalabs/scavenger/master/15024/.0006.scavengerhunt'\n",
    "res1 = req.get(url)\n",
    "res1.text"
   ]
  },
  {
   "cell_type": "code",
   "execution_count": 43,
   "id": "f2e2be5b",
   "metadata": {},
   "outputs": [
    {
     "data": {
      "text/plain": [
       "{'name': '15534',\n",
       " 'path': '15534',\n",
       " 'sha': '5af6f2a7287e4191f39e55693fc1e9c8918d1d3a',\n",
       " 'size': 0,\n",
       " 'url': 'https://api.github.com/repos/ironhack-datalabs/scavenger/contents/15534?ref=master',\n",
       " 'html_url': 'https://github.com/ironhack-datalabs/scavenger/tree/master/15534',\n",
       " 'git_url': 'https://api.github.com/repos/ironhack-datalabs/scavenger/git/trees/5af6f2a7287e4191f39e55693fc1e9c8918d1d3a',\n",
       " 'download_url': None,\n",
       " 'type': 'dir',\n",
       " '_links': {'self': 'https://api.github.com/repos/ironhack-datalabs/scavenger/contents/15534?ref=master',\n",
       "  'git': 'https://api.github.com/repos/ironhack-datalabs/scavenger/git/trees/5af6f2a7287e4191f39e55693fc1e9c8918d1d3a',\n",
       "  'html': 'https://github.com/ironhack-datalabs/scavenger/tree/master/15534'}}"
      ]
     },
     "execution_count": 43,
     "metadata": {},
     "output_type": "execute_result"
    }
   ],
   "source": [
    "res_git.json()[2]"
   ]
  },
  {
   "cell_type": "code",
   "execution_count": 47,
   "id": "e49d2208",
   "metadata": {},
   "outputs": [
    {
     "ename": "TypeError",
     "evalue": "'list' object is not callable",
     "output_type": "error",
     "traceback": [
      "\u001b[0;31m---------------------------------------------------------------------------\u001b[0m",
      "\u001b[0;31mTypeError\u001b[0m                                 Traceback (most recent call last)",
      "Cell \u001b[0;32mIn[47], line 3\u001b[0m\n\u001b[1;32m      1\u001b[0m links \u001b[38;5;241m=\u001b[39m []\n\u001b[1;32m      2\u001b[0m \u001b[38;5;28;01mfor\u001b[39;00m e \u001b[38;5;129;01min\u001b[39;00m \u001b[38;5;28mrange\u001b[39m(\u001b[38;5;28mlen\u001b[39m(res_git\u001b[38;5;241m.\u001b[39mjson())):\n\u001b[0;32m----> 3\u001b[0m     links\u001b[38;5;241m.\u001b[39mappend(\u001b[43mres_git\u001b[49m\u001b[38;5;241;43m.\u001b[39;49m\u001b[43mjson\u001b[49m\u001b[43m(\u001b[49m\u001b[43m)\u001b[49m\u001b[43m(\u001b[49m\u001b[43me\u001b[49m\u001b[43m)\u001b[49m[\u001b[38;5;124m'\u001b[39m\u001b[38;5;124m_links\u001b[39m\u001b[38;5;124m'\u001b[39m][\u001b[38;5;124m'\u001b[39m\u001b[38;5;124mself\u001b[39m\u001b[38;5;124m'\u001b[39m])\n\u001b[1;32m      4\u001b[0m links\n",
      "\u001b[0;31mTypeError\u001b[0m: 'list' object is not callable"
     ]
    }
   ],
   "source": [
    "links = []\n",
    "for e in range(len(res_git.json())):\n",
    "    links.append(res_git.json()(e)['_links']['self'])\n",
    "links"
   ]
  },
  {
   "cell_type": "code",
   "execution_count": null,
   "id": "4fa7dadb",
   "metadata": {},
   "outputs": [],
   "source": []
  }
 ],
 "metadata": {
  "kernelspec": {
   "display_name": "Python 3 (ipykernel)",
   "language": "python",
   "name": "python3"
  },
  "language_info": {
   "codemirror_mode": {
    "name": "ipython",
    "version": 3
   },
   "file_extension": ".py",
   "mimetype": "text/x-python",
   "name": "python",
   "nbconvert_exporter": "python",
   "pygments_lexer": "ipython3",
   "version": "3.10.9"
  },
  "toc": {
   "base_numbering": 1,
   "nav_menu": {},
   "number_sections": true,
   "sideBar": true,
   "skip_h1_title": true,
   "title_cell": "Table of Contents",
   "title_sidebar": "Contents",
   "toc_cell": false,
   "toc_position": {},
   "toc_section_display": true,
   "toc_window_display": true
  }
 },
 "nbformat": 4,
 "nbformat_minor": 5
}
