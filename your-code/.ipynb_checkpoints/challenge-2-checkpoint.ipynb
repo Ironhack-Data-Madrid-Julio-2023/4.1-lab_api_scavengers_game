{
 "cells": [
  {
   "cell_type": "markdown",
   "id": "threaded-asbestos",
   "metadata": {},
   "source": [
    "# Challenge 2: Count Commits\n",
    "\n",
    "Count how many commits were made in the past week.\n",
    "\n",
    "Obtain all the commits made in the past week via API, which is a JSON array that contains multiple commit objects.\n",
    "\n",
    "Count how many commit objects are contained in the array."
   ]
  },
  {
   "cell_type": "markdown",
   "id": "norwegian-praise",
   "metadata": {},
   "source": [
    "⚠️ **Remember to limit your output before submission**."
   ]
  },
  {
   "cell_type": "code",
   "execution_count": 1,
   "id": "developing-printing",
   "metadata": {},
   "outputs": [],
   "source": [
    "#Your code\n",
    "import json\n",
    "import requests as req"
   ]
  },
  {
   "cell_type": "code",
   "execution_count": 2,
   "id": "creative-stable",
   "metadata": {},
   "outputs": [],
   "source": [
    "# Example: print(variable[:10]) "
   ]
  },
  {
   "cell_type": "code",
   "execution_count": 3,
   "id": "ongoing-taylor",
   "metadata": {},
   "outputs": [],
   "source": [
    "import os\n",
    "from dotenv import load_dotenv"
   ]
  },
  {
   "cell_type": "code",
   "execution_count": 4,
   "id": "5e487f6e",
   "metadata": {},
   "outputs": [
    {
     "name": "stdout",
     "output_type": "stream",
     "text": [
      "Requirement already satisfied: python-dotenv in /Users/david/anaconda3/lib/python3.10/site-packages (1.0.0)\n",
      "Note: you may need to restart the kernel to use updated packages.\n"
     ]
    }
   ],
   "source": [
    "%pip install python-dotenv"
   ]
  },
  {
   "cell_type": "code",
   "execution_count": 5,
   "id": "f0572717",
   "metadata": {},
   "outputs": [],
   "source": [
    "url=\"https://github.com/DavidNPastrana/4.2-lab_rss\""
   ]
  },
  {
   "cell_type": "code",
   "execution_count": 6,
   "id": "678db7c9",
   "metadata": {},
   "outputs": [],
   "source": [
    "res = req.get(url)"
   ]
  },
  {
   "cell_type": "code",
   "execution_count": 7,
   "id": "2d3353b7",
   "metadata": {},
   "outputs": [],
   "source": [
    "from password import TOKEN"
   ]
  },
  {
   "cell_type": "code",
   "execution_count": 8,
   "id": "f0cc9cb8",
   "metadata": {},
   "outputs": [],
   "source": [
    "HEADER = {'Authorization': 'token ' + TOKEN}"
   ]
  },
  {
   "cell_type": "code",
   "execution_count": 9,
   "id": "544bc0da",
   "metadata": {},
   "outputs": [],
   "source": [
    "import os\n",
    "\n",
    "github_token = os.getenv(\"token\")"
   ]
  },
  {
   "cell_type": "code",
   "execution_count": 10,
   "id": "e8813488",
   "metadata": {},
   "outputs": [
    {
     "data": {
      "text/plain": [
       "False"
      ]
     },
     "execution_count": 10,
     "metadata": {},
     "output_type": "execute_result"
    }
   ],
   "source": [
    "load_dotenv()"
   ]
  },
  {
   "cell_type": "code",
   "execution_count": 11,
   "id": "1f1e101a",
   "metadata": {},
   "outputs": [],
   "source": [
    "github = os.getenv(\"token\")"
   ]
  },
  {
   "cell_type": "code",
   "execution_count": 12,
   "id": "d31ba364",
   "metadata": {
    "scrolled": true
   },
   "outputs": [],
   "source": [
    "url = req.get(\"https://api.github.com/users/DavidNPastrana/repos\")"
   ]
  },
  {
   "cell_type": "code",
   "execution_count": 13,
   "id": "150e18d1",
   "metadata": {},
   "outputs": [
    {
     "data": {
      "text/plain": [
       "'https://api.github.com/repos/DavidNPastrana/1.1-lab_bash/commits{/sha}'"
      ]
     },
     "execution_count": 13,
     "metadata": {},
     "output_type": "execute_result"
    }
   ],
   "source": [
    "(url.json()[0][\"commits_url\"])"
   ]
  },
  {
   "cell_type": "code",
   "execution_count": 14,
   "id": "d217e60e",
   "metadata": {},
   "outputs": [],
   "source": [
    "repo_david = req.get(\"https://api.github.com/repos/DavidNPastrana/1.1-lab_bash/commits\")"
   ]
  },
  {
   "cell_type": "code",
   "execution_count": 15,
   "id": "d37320ef",
   "metadata": {},
   "outputs": [
    {
     "data": {
      "text/plain": [
       "[{'sha': '924181ef5e8ce5abb98f3d1d7f5c318f48fda43d',\n",
       "  'node_id': 'C_kwDOJ51LhNoAKDkyNDE4MWVmNWU4Y2U1YWJiOThmM2QxZDdmNWMzMThmNDhmZGE0M2Q',\n",
       "  'commit': {'author': {'name': 'david_nunez',\n",
       "    'email': 'davidnunezpastrana@gmail.com',\n",
       "    'date': '2023-07-10T18:50:33Z'},\n",
       "   'committer': {'name': 'david_nunez',\n",
       "    'email': 'davidnunezpastrana@gmail.com',\n",
       "    'date': '2023-07-10T18:50:33Z'},\n",
       "   'message': 'delete files not needed',\n",
       "   'tree': {'sha': 'a6c0468648a6d477b10119d9380b67f36c3333b5',\n",
       "    'url': 'https://api.github.com/repos/DavidNPastrana/1.1-lab_bash/git/trees/a6c0468648a6d477b10119d9380b67f36c3333b5'},\n",
       "   'url': 'https://api.github.com/repos/DavidNPastrana/1.1-lab_bash/git/commits/924181ef5e8ce5abb98f3d1d7f5c318f48fda43d',\n",
       "   'comment_count': 0,\n",
       "   'verification': {'verified': False,\n",
       "    'reason': 'unsigned',\n",
       "    'signature': None,\n",
       "    'payload': None}},\n",
       "  'url': 'https://api.github.com/repos/DavidNPastrana/1.1-lab_bash/commits/924181ef5e8ce5abb98f3d1d7f5c318f48fda43d',\n",
       "  'html_url': 'https://github.com/DavidNPastrana/1.1-lab_bash/commit/924181ef5e8ce5abb98f3d1d7f5c318f48fda43d',\n",
       "  'comments_url': 'https://api.github.com/repos/DavidNPastrana/1.1-lab_bash/commits/924181ef5e8ce5abb98f3d1d7f5c318f48fda43d/comments',\n",
       "  'author': {'login': 'DavidNPastrana',\n",
       "   'id': 129538923,\n",
       "   'node_id': 'U_kgDOB7ibaw',\n",
       "   'avatar_url': 'https://avatars.githubusercontent.com/u/129538923?v=4',\n",
       "   'gravatar_id': '',\n",
       "   'url': 'https://api.github.com/users/DavidNPastrana',\n",
       "   'html_url': 'https://github.com/DavidNPastrana',\n",
       "   'followers_url': 'https://api.github.com/users/DavidNPastrana/followers',\n",
       "   'following_url': 'https://api.github.com/users/DavidNPastrana/following{/other_user}',\n",
       "   'gists_url': 'https://api.github.com/users/DavidNPastrana/gists{/gist_id}',\n",
       "   'starred_url': 'https://api.github.com/users/DavidNPastrana/starred{/owner}{/repo}',\n",
       "   'subscriptions_url': 'https://api.github.com/users/DavidNPastrana/subscriptions',\n",
       "   'organizations_url': 'https://api.github.com/users/DavidNPastrana/orgs',\n",
       "   'repos_url': 'https://api.github.com/users/DavidNPastrana/repos',\n",
       "   'events_url': 'https://api.github.com/users/DavidNPastrana/events{/privacy}',\n",
       "   'received_events_url': 'https://api.github.com/users/DavidNPastrana/received_events',\n",
       "   'type': 'User',\n",
       "   'site_admin': False},\n",
       "  'committer': {'login': 'DavidNPastrana',\n",
       "   'id': 129538923,\n",
       "   'node_id': 'U_kgDOB7ibaw',\n",
       "   'avatar_url': 'https://avatars.githubusercontent.com/u/129538923?v=4',\n",
       "   'gravatar_id': '',\n",
       "   'url': 'https://api.github.com/users/DavidNPastrana',\n",
       "   'html_url': 'https://github.com/DavidNPastrana',\n",
       "   'followers_url': 'https://api.github.com/users/DavidNPastrana/followers',\n",
       "   'following_url': 'https://api.github.com/users/DavidNPastrana/following{/other_user}',\n",
       "   'gists_url': 'https://api.github.com/users/DavidNPastrana/gists{/gist_id}',\n",
       "   'starred_url': 'https://api.github.com/users/DavidNPastrana/starred{/owner}{/repo}',\n",
       "   'subscriptions_url': 'https://api.github.com/users/DavidNPastrana/subscriptions',\n",
       "   'organizations_url': 'https://api.github.com/users/DavidNPastrana/orgs',\n",
       "   'repos_url': 'https://api.github.com/users/DavidNPastrana/repos',\n",
       "   'events_url': 'https://api.github.com/users/DavidNPastrana/events{/privacy}',\n",
       "   'received_events_url': 'https://api.github.com/users/DavidNPastrana/received_events',\n",
       "   'type': 'User',\n",
       "   'site_admin': False},\n",
       "  'parents': [{'sha': '5156c4412fef46720afa0d24ba44cf41eaffe38b',\n",
       "    'url': 'https://api.github.com/repos/DavidNPastrana/1.1-lab_bash/commits/5156c4412fef46720afa0d24ba44cf41eaffe38b',\n",
       "    'html_url': 'https://github.com/DavidNPastrana/1.1-lab_bash/commit/5156c4412fef46720afa0d24ba44cf41eaffe38b'}]},\n",
       " {'sha': '5156c4412fef46720afa0d24ba44cf41eaffe38b',\n",
       "  'node_id': 'C_kwDOJ51LhNoAKDUxNTZjNDQxMmZlZjQ2NzIwYWZhMGQyNGJhNDRjZjQxZWFmZmUzOGI',\n",
       "  'commit': {'author': {'name': 'david_nunez',\n",
       "    'email': 'davidnunezpastrana@gmail.com',\n",
       "    'date': '2023-07-10T18:46:12Z'},\n",
       "   'committer': {'name': 'david_nunez',\n",
       "    'email': 'davidnunezpastrana@gmail.com',\n",
       "    'date': '2023-07-10T18:46:12Z'},\n",
       "   'message': 'Upload text file with answers',\n",
       "   'tree': {'sha': 'a89dced43e039e75ad99e2db3990fbd33cebcb21',\n",
       "    'url': 'https://api.github.com/repos/DavidNPastrana/1.1-lab_bash/git/trees/a89dced43e039e75ad99e2db3990fbd33cebcb21'},\n",
       "   'url': 'https://api.github.com/repos/DavidNPastrana/1.1-lab_bash/git/commits/5156c4412fef46720afa0d24ba44cf41eaffe38b',\n",
       "   'comment_count': 0,\n",
       "   'verification': {'verified': False,\n",
       "    'reason': 'unsigned',\n",
       "    'signature': None,\n",
       "    'payload': None}},\n",
       "  'url': 'https://api.github.com/repos/DavidNPastrana/1.1-lab_bash/commits/5156c4412fef46720afa0d24ba44cf41eaffe38b',\n",
       "  'html_url': 'https://github.com/DavidNPastrana/1.1-lab_bash/commit/5156c4412fef46720afa0d24ba44cf41eaffe38b',\n",
       "  'comments_url': 'https://api.github.com/repos/DavidNPastrana/1.1-lab_bash/commits/5156c4412fef46720afa0d24ba44cf41eaffe38b/comments',\n",
       "  'author': {'login': 'DavidNPastrana',\n",
       "   'id': 129538923,\n",
       "   'node_id': 'U_kgDOB7ibaw',\n",
       "   'avatar_url': 'https://avatars.githubusercontent.com/u/129538923?v=4',\n",
       "   'gravatar_id': '',\n",
       "   'url': 'https://api.github.com/users/DavidNPastrana',\n",
       "   'html_url': 'https://github.com/DavidNPastrana',\n",
       "   'followers_url': 'https://api.github.com/users/DavidNPastrana/followers',\n",
       "   'following_url': 'https://api.github.com/users/DavidNPastrana/following{/other_user}',\n",
       "   'gists_url': 'https://api.github.com/users/DavidNPastrana/gists{/gist_id}',\n",
       "   'starred_url': 'https://api.github.com/users/DavidNPastrana/starred{/owner}{/repo}',\n",
       "   'subscriptions_url': 'https://api.github.com/users/DavidNPastrana/subscriptions',\n",
       "   'organizations_url': 'https://api.github.com/users/DavidNPastrana/orgs',\n",
       "   'repos_url': 'https://api.github.com/users/DavidNPastrana/repos',\n",
       "   'events_url': 'https://api.github.com/users/DavidNPastrana/events{/privacy}',\n",
       "   'received_events_url': 'https://api.github.com/users/DavidNPastrana/received_events',\n",
       "   'type': 'User',\n",
       "   'site_admin': False},\n",
       "  'committer': {'login': 'DavidNPastrana',\n",
       "   'id': 129538923,\n",
       "   'node_id': 'U_kgDOB7ibaw',\n",
       "   'avatar_url': 'https://avatars.githubusercontent.com/u/129538923?v=4',\n",
       "   'gravatar_id': '',\n",
       "   'url': 'https://api.github.com/users/DavidNPastrana',\n",
       "   'html_url': 'https://github.com/DavidNPastrana',\n",
       "   'followers_url': 'https://api.github.com/users/DavidNPastrana/followers',\n",
       "   'following_url': 'https://api.github.com/users/DavidNPastrana/following{/other_user}',\n",
       "   'gists_url': 'https://api.github.com/users/DavidNPastrana/gists{/gist_id}',\n",
       "   'starred_url': 'https://api.github.com/users/DavidNPastrana/starred{/owner}{/repo}',\n",
       "   'subscriptions_url': 'https://api.github.com/users/DavidNPastrana/subscriptions',\n",
       "   'organizations_url': 'https://api.github.com/users/DavidNPastrana/orgs',\n",
       "   'repos_url': 'https://api.github.com/users/DavidNPastrana/repos',\n",
       "   'events_url': 'https://api.github.com/users/DavidNPastrana/events{/privacy}',\n",
       "   'received_events_url': 'https://api.github.com/users/DavidNPastrana/received_events',\n",
       "   'type': 'User',\n",
       "   'site_admin': False},\n",
       "  'parents': [{'sha': 'f4b820b88899498cebbb51b174d2c9e626875987',\n",
       "    'url': 'https://api.github.com/repos/DavidNPastrana/1.1-lab_bash/commits/f4b820b88899498cebbb51b174d2c9e626875987',\n",
       "    'html_url': 'https://github.com/DavidNPastrana/1.1-lab_bash/commit/f4b820b88899498cebbb51b174d2c9e626875987'}]},\n",
       " {'sha': 'f4b820b88899498cebbb51b174d2c9e626875987',\n",
       "  'node_id': 'C_kwDOJ51LhNoAKGY0YjgyMGI4ODg5OTQ5OGNlYmJiNTFiMTc0ZDJjOWU2MjY4NzU5ODc',\n",
       "  'commit': {'author': {'name': 'david_nunez',\n",
       "    'email': 'davidnunezpastrana@gmail.com',\n",
       "    'date': '2023-07-10T13:18:26Z'},\n",
       "   'committer': {'name': 'david_nunez',\n",
       "    'email': 'davidnunezpastrana@gmail.com',\n",
       "    'date': '2023-07-10T13:18:26Z'},\n",
       "   'message': 'This is my first exercise',\n",
       "   'tree': {'sha': 'dcbdb4229533c508800d5068ba16d29a90028f16',\n",
       "    'url': 'https://api.github.com/repos/DavidNPastrana/1.1-lab_bash/git/trees/dcbdb4229533c508800d5068ba16d29a90028f16'},\n",
       "   'url': 'https://api.github.com/repos/DavidNPastrana/1.1-lab_bash/git/commits/f4b820b88899498cebbb51b174d2c9e626875987',\n",
       "   'comment_count': 0,\n",
       "   'verification': {'verified': False,\n",
       "    'reason': 'unsigned',\n",
       "    'signature': None,\n",
       "    'payload': None}},\n",
       "  'url': 'https://api.github.com/repos/DavidNPastrana/1.1-lab_bash/commits/f4b820b88899498cebbb51b174d2c9e626875987',\n",
       "  'html_url': 'https://github.com/DavidNPastrana/1.1-lab_bash/commit/f4b820b88899498cebbb51b174d2c9e626875987',\n",
       "  'comments_url': 'https://api.github.com/repos/DavidNPastrana/1.1-lab_bash/commits/f4b820b88899498cebbb51b174d2c9e626875987/comments',\n",
       "  'author': {'login': 'DavidNPastrana',\n",
       "   'id': 129538923,\n",
       "   'node_id': 'U_kgDOB7ibaw',\n",
       "   'avatar_url': 'https://avatars.githubusercontent.com/u/129538923?v=4',\n",
       "   'gravatar_id': '',\n",
       "   'url': 'https://api.github.com/users/DavidNPastrana',\n",
       "   'html_url': 'https://github.com/DavidNPastrana',\n",
       "   'followers_url': 'https://api.github.com/users/DavidNPastrana/followers',\n",
       "   'following_url': 'https://api.github.com/users/DavidNPastrana/following{/other_user}',\n",
       "   'gists_url': 'https://api.github.com/users/DavidNPastrana/gists{/gist_id}',\n",
       "   'starred_url': 'https://api.github.com/users/DavidNPastrana/starred{/owner}{/repo}',\n",
       "   'subscriptions_url': 'https://api.github.com/users/DavidNPastrana/subscriptions',\n",
       "   'organizations_url': 'https://api.github.com/users/DavidNPastrana/orgs',\n",
       "   'repos_url': 'https://api.github.com/users/DavidNPastrana/repos',\n",
       "   'events_url': 'https://api.github.com/users/DavidNPastrana/events{/privacy}',\n",
       "   'received_events_url': 'https://api.github.com/users/DavidNPastrana/received_events',\n",
       "   'type': 'User',\n",
       "   'site_admin': False},\n",
       "  'committer': {'login': 'DavidNPastrana',\n",
       "   'id': 129538923,\n",
       "   'node_id': 'U_kgDOB7ibaw',\n",
       "   'avatar_url': 'https://avatars.githubusercontent.com/u/129538923?v=4',\n",
       "   'gravatar_id': '',\n",
       "   'url': 'https://api.github.com/users/DavidNPastrana',\n",
       "   'html_url': 'https://github.com/DavidNPastrana',\n",
       "   'followers_url': 'https://api.github.com/users/DavidNPastrana/followers',\n",
       "   'following_url': 'https://api.github.com/users/DavidNPastrana/following{/other_user}',\n",
       "   'gists_url': 'https://api.github.com/users/DavidNPastrana/gists{/gist_id}',\n",
       "   'starred_url': 'https://api.github.com/users/DavidNPastrana/starred{/owner}{/repo}',\n",
       "   'subscriptions_url': 'https://api.github.com/users/DavidNPastrana/subscriptions',\n",
       "   'organizations_url': 'https://api.github.com/users/DavidNPastrana/orgs',\n",
       "   'repos_url': 'https://api.github.com/users/DavidNPastrana/repos',\n",
       "   'events_url': 'https://api.github.com/users/DavidNPastrana/events{/privacy}',\n",
       "   'received_events_url': 'https://api.github.com/users/DavidNPastrana/received_events',\n",
       "   'type': 'User',\n",
       "   'site_admin': False},\n",
       "  'parents': [{'sha': '31b71543ceeb932822ad4f4e0a0e9f738edc1857',\n",
       "    'url': 'https://api.github.com/repos/DavidNPastrana/1.1-lab_bash/commits/31b71543ceeb932822ad4f4e0a0e9f738edc1857',\n",
       "    'html_url': 'https://github.com/DavidNPastrana/1.1-lab_bash/commit/31b71543ceeb932822ad4f4e0a0e9f738edc1857'}]},\n",
       " {'sha': '31b71543ceeb932822ad4f4e0a0e9f738edc1857',\n",
       "  'node_id': 'C_kwDOJ51LhNoAKDMxYjcxNTQzY2VlYjkzMjgyMmFkNGY0ZTBhMGU5ZjczOGVkYzE4NTc',\n",
       "  'commit': {'author': {'name': 'david_nunez',\n",
       "    'email': 'davidnunezpastrana@gmail.com',\n",
       "    'date': '2023-07-10T12:05:02Z'},\n",
       "   'committer': {'name': 'david_nunez',\n",
       "    'email': 'davidnunezpastrana@gmail.com',\n",
       "    'date': '2023-07-10T12:05:02Z'},\n",
       "   'message': 'Este es ,i primer trabajo',\n",
       "   'tree': {'sha': 'eadd2197fbf4cd8fe1c73dc1b16cca78ca7f4ad8',\n",
       "    'url': 'https://api.github.com/repos/DavidNPastrana/1.1-lab_bash/git/trees/eadd2197fbf4cd8fe1c73dc1b16cca78ca7f4ad8'},\n",
       "   'url': 'https://api.github.com/repos/DavidNPastrana/1.1-lab_bash/git/commits/31b71543ceeb932822ad4f4e0a0e9f738edc1857',\n",
       "   'comment_count': 0,\n",
       "   'verification': {'verified': False,\n",
       "    'reason': 'unsigned',\n",
       "    'signature': None,\n",
       "    'payload': None}},\n",
       "  'url': 'https://api.github.com/repos/DavidNPastrana/1.1-lab_bash/commits/31b71543ceeb932822ad4f4e0a0e9f738edc1857',\n",
       "  'html_url': 'https://github.com/DavidNPastrana/1.1-lab_bash/commit/31b71543ceeb932822ad4f4e0a0e9f738edc1857',\n",
       "  'comments_url': 'https://api.github.com/repos/DavidNPastrana/1.1-lab_bash/commits/31b71543ceeb932822ad4f4e0a0e9f738edc1857/comments',\n",
       "  'author': {'login': 'DavidNPastrana',\n",
       "   'id': 129538923,\n",
       "   'node_id': 'U_kgDOB7ibaw',\n",
       "   'avatar_url': 'https://avatars.githubusercontent.com/u/129538923?v=4',\n",
       "   'gravatar_id': '',\n",
       "   'url': 'https://api.github.com/users/DavidNPastrana',\n",
       "   'html_url': 'https://github.com/DavidNPastrana',\n",
       "   'followers_url': 'https://api.github.com/users/DavidNPastrana/followers',\n",
       "   'following_url': 'https://api.github.com/users/DavidNPastrana/following{/other_user}',\n",
       "   'gists_url': 'https://api.github.com/users/DavidNPastrana/gists{/gist_id}',\n",
       "   'starred_url': 'https://api.github.com/users/DavidNPastrana/starred{/owner}{/repo}',\n",
       "   'subscriptions_url': 'https://api.github.com/users/DavidNPastrana/subscriptions',\n",
       "   'organizations_url': 'https://api.github.com/users/DavidNPastrana/orgs',\n",
       "   'repos_url': 'https://api.github.com/users/DavidNPastrana/repos',\n",
       "   'events_url': 'https://api.github.com/users/DavidNPastrana/events{/privacy}',\n",
       "   'received_events_url': 'https://api.github.com/users/DavidNPastrana/received_events',\n",
       "   'type': 'User',\n",
       "   'site_admin': False},\n",
       "  'committer': {'login': 'DavidNPastrana',\n",
       "   'id': 129538923,\n",
       "   'node_id': 'U_kgDOB7ibaw',\n",
       "   'avatar_url': 'https://avatars.githubusercontent.com/u/129538923?v=4',\n",
       "   'gravatar_id': '',\n",
       "   'url': 'https://api.github.com/users/DavidNPastrana',\n",
       "   'html_url': 'https://github.com/DavidNPastrana',\n",
       "   'followers_url': 'https://api.github.com/users/DavidNPastrana/followers',\n",
       "   'following_url': 'https://api.github.com/users/DavidNPastrana/following{/other_user}',\n",
       "   'gists_url': 'https://api.github.com/users/DavidNPastrana/gists{/gist_id}',\n",
       "   'starred_url': 'https://api.github.com/users/DavidNPastrana/starred{/owner}{/repo}',\n",
       "   'subscriptions_url': 'https://api.github.com/users/DavidNPastrana/subscriptions',\n",
       "   'organizations_url': 'https://api.github.com/users/DavidNPastrana/orgs',\n",
       "   'repos_url': 'https://api.github.com/users/DavidNPastrana/repos',\n",
       "   'events_url': 'https://api.github.com/users/DavidNPastrana/events{/privacy}',\n",
       "   'received_events_url': 'https://api.github.com/users/DavidNPastrana/received_events',\n",
       "   'type': 'User',\n",
       "   'site_admin': False},\n",
       "  'parents': [{'sha': 'b4a2a49bf60f2340623b2a23ddcedd08dea1844f',\n",
       "    'url': 'https://api.github.com/repos/DavidNPastrana/1.1-lab_bash/commits/b4a2a49bf60f2340623b2a23ddcedd08dea1844f',\n",
       "    'html_url': 'https://github.com/DavidNPastrana/1.1-lab_bash/commit/b4a2a49bf60f2340623b2a23ddcedd08dea1844f'}]},\n",
       " {'sha': 'b4a2a49bf60f2340623b2a23ddcedd08dea1844f',\n",
       "  'node_id': 'C_kwDOJ51LhNoAKGI0YTJhNDliZjYwZjIzNDA2MjNiMmEyM2RkY2VkZDA4ZGVhMTg0NGY',\n",
       "  'commit': {'author': {'name': 'iudh',\n",
       "    'email': 'yeho@mail.com',\n",
       "    'date': '2023-06-28T08:36:29Z'},\n",
       "   'committer': {'name': 'iudh',\n",
       "    'email': 'yeho@mail.com',\n",
       "    'date': '2023-06-28T08:36:29Z'},\n",
       "   'message': 'init',\n",
       "   'tree': {'sha': 'ea3e635c3a03928e2ee9b93d06657605acea735e',\n",
       "    'url': 'https://api.github.com/repos/DavidNPastrana/1.1-lab_bash/git/trees/ea3e635c3a03928e2ee9b93d06657605acea735e'},\n",
       "   'url': 'https://api.github.com/repos/DavidNPastrana/1.1-lab_bash/git/commits/b4a2a49bf60f2340623b2a23ddcedd08dea1844f',\n",
       "   'comment_count': 0,\n",
       "   'verification': {'verified': False,\n",
       "    'reason': 'unsigned',\n",
       "    'signature': None,\n",
       "    'payload': None}},\n",
       "  'url': 'https://api.github.com/repos/DavidNPastrana/1.1-lab_bash/commits/b4a2a49bf60f2340623b2a23ddcedd08dea1844f',\n",
       "  'html_url': 'https://github.com/DavidNPastrana/1.1-lab_bash/commit/b4a2a49bf60f2340623b2a23ddcedd08dea1844f',\n",
       "  'comments_url': 'https://api.github.com/repos/DavidNPastrana/1.1-lab_bash/commits/b4a2a49bf60f2340623b2a23ddcedd08dea1844f/comments',\n",
       "  'author': {'login': 'YonatanRA',\n",
       "   'id': 47545401,\n",
       "   'node_id': 'MDQ6VXNlcjQ3NTQ1NDAx',\n",
       "   'avatar_url': 'https://avatars.githubusercontent.com/u/47545401?v=4',\n",
       "   'gravatar_id': '',\n",
       "   'url': 'https://api.github.com/users/YonatanRA',\n",
       "   'html_url': 'https://github.com/YonatanRA',\n",
       "   'followers_url': 'https://api.github.com/users/YonatanRA/followers',\n",
       "   'following_url': 'https://api.github.com/users/YonatanRA/following{/other_user}',\n",
       "   'gists_url': 'https://api.github.com/users/YonatanRA/gists{/gist_id}',\n",
       "   'starred_url': 'https://api.github.com/users/YonatanRA/starred{/owner}{/repo}',\n",
       "   'subscriptions_url': 'https://api.github.com/users/YonatanRA/subscriptions',\n",
       "   'organizations_url': 'https://api.github.com/users/YonatanRA/orgs',\n",
       "   'repos_url': 'https://api.github.com/users/YonatanRA/repos',\n",
       "   'events_url': 'https://api.github.com/users/YonatanRA/events{/privacy}',\n",
       "   'received_events_url': 'https://api.github.com/users/YonatanRA/received_events',\n",
       "   'type': 'User',\n",
       "   'site_admin': False},\n",
       "  'committer': {'login': 'YonatanRA',\n",
       "   'id': 47545401,\n",
       "   'node_id': 'MDQ6VXNlcjQ3NTQ1NDAx',\n",
       "   'avatar_url': 'https://avatars.githubusercontent.com/u/47545401?v=4',\n",
       "   'gravatar_id': '',\n",
       "   'url': 'https://api.github.com/users/YonatanRA',\n",
       "   'html_url': 'https://github.com/YonatanRA',\n",
       "   'followers_url': 'https://api.github.com/users/YonatanRA/followers',\n",
       "   'following_url': 'https://api.github.com/users/YonatanRA/following{/other_user}',\n",
       "   'gists_url': 'https://api.github.com/users/YonatanRA/gists{/gist_id}',\n",
       "   'starred_url': 'https://api.github.com/users/YonatanRA/starred{/owner}{/repo}',\n",
       "   'subscriptions_url': 'https://api.github.com/users/YonatanRA/subscriptions',\n",
       "   'organizations_url': 'https://api.github.com/users/YonatanRA/orgs',\n",
       "   'repos_url': 'https://api.github.com/users/YonatanRA/repos',\n",
       "   'events_url': 'https://api.github.com/users/YonatanRA/events{/privacy}',\n",
       "   'received_events_url': 'https://api.github.com/users/YonatanRA/received_events',\n",
       "   'type': 'User',\n",
       "   'site_admin': False},\n",
       "  'parents': []}]"
      ]
     },
     "execution_count": 15,
     "metadata": {},
     "output_type": "execute_result"
    }
   ],
   "source": [
    "repo_david.json()"
   ]
  },
  {
   "cell_type": "code",
   "execution_count": 16,
   "id": "771c3526",
   "metadata": {},
   "outputs": [
    {
     "data": {
      "text/plain": [
       "[{'author': {'name': 'david_nunez',\n",
       "   'email': 'davidnunezpastrana@gmail.com',\n",
       "   'date': '2023-07-10T18:50:33Z'},\n",
       "  'committer': {'name': 'david_nunez',\n",
       "   'email': 'davidnunezpastrana@gmail.com',\n",
       "   'date': '2023-07-10T18:50:33Z'},\n",
       "  'message': 'delete files not needed',\n",
       "  'tree': {'sha': 'a6c0468648a6d477b10119d9380b67f36c3333b5',\n",
       "   'url': 'https://api.github.com/repos/DavidNPastrana/1.1-lab_bash/git/trees/a6c0468648a6d477b10119d9380b67f36c3333b5'},\n",
       "  'url': 'https://api.github.com/repos/DavidNPastrana/1.1-lab_bash/git/commits/924181ef5e8ce5abb98f3d1d7f5c318f48fda43d',\n",
       "  'comment_count': 0,\n",
       "  'verification': {'verified': False,\n",
       "   'reason': 'unsigned',\n",
       "   'signature': None,\n",
       "   'payload': None}},\n",
       " {'author': {'name': 'david_nunez',\n",
       "   'email': 'davidnunezpastrana@gmail.com',\n",
       "   'date': '2023-07-10T18:46:12Z'},\n",
       "  'committer': {'name': 'david_nunez',\n",
       "   'email': 'davidnunezpastrana@gmail.com',\n",
       "   'date': '2023-07-10T18:46:12Z'},\n",
       "  'message': 'Upload text file with answers',\n",
       "  'tree': {'sha': 'a89dced43e039e75ad99e2db3990fbd33cebcb21',\n",
       "   'url': 'https://api.github.com/repos/DavidNPastrana/1.1-lab_bash/git/trees/a89dced43e039e75ad99e2db3990fbd33cebcb21'},\n",
       "  'url': 'https://api.github.com/repos/DavidNPastrana/1.1-lab_bash/git/commits/5156c4412fef46720afa0d24ba44cf41eaffe38b',\n",
       "  'comment_count': 0,\n",
       "  'verification': {'verified': False,\n",
       "   'reason': 'unsigned',\n",
       "   'signature': None,\n",
       "   'payload': None}},\n",
       " {'author': {'name': 'david_nunez',\n",
       "   'email': 'davidnunezpastrana@gmail.com',\n",
       "   'date': '2023-07-10T13:18:26Z'},\n",
       "  'committer': {'name': 'david_nunez',\n",
       "   'email': 'davidnunezpastrana@gmail.com',\n",
       "   'date': '2023-07-10T13:18:26Z'},\n",
       "  'message': 'This is my first exercise',\n",
       "  'tree': {'sha': 'dcbdb4229533c508800d5068ba16d29a90028f16',\n",
       "   'url': 'https://api.github.com/repos/DavidNPastrana/1.1-lab_bash/git/trees/dcbdb4229533c508800d5068ba16d29a90028f16'},\n",
       "  'url': 'https://api.github.com/repos/DavidNPastrana/1.1-lab_bash/git/commits/f4b820b88899498cebbb51b174d2c9e626875987',\n",
       "  'comment_count': 0,\n",
       "  'verification': {'verified': False,\n",
       "   'reason': 'unsigned',\n",
       "   'signature': None,\n",
       "   'payload': None}},\n",
       " {'author': {'name': 'david_nunez',\n",
       "   'email': 'davidnunezpastrana@gmail.com',\n",
       "   'date': '2023-07-10T12:05:02Z'},\n",
       "  'committer': {'name': 'david_nunez',\n",
       "   'email': 'davidnunezpastrana@gmail.com',\n",
       "   'date': '2023-07-10T12:05:02Z'},\n",
       "  'message': 'Este es ,i primer trabajo',\n",
       "  'tree': {'sha': 'eadd2197fbf4cd8fe1c73dc1b16cca78ca7f4ad8',\n",
       "   'url': 'https://api.github.com/repos/DavidNPastrana/1.1-lab_bash/git/trees/eadd2197fbf4cd8fe1c73dc1b16cca78ca7f4ad8'},\n",
       "  'url': 'https://api.github.com/repos/DavidNPastrana/1.1-lab_bash/git/commits/31b71543ceeb932822ad4f4e0a0e9f738edc1857',\n",
       "  'comment_count': 0,\n",
       "  'verification': {'verified': False,\n",
       "   'reason': 'unsigned',\n",
       "   'signature': None,\n",
       "   'payload': None}},\n",
       " {'author': {'name': 'iudh',\n",
       "   'email': 'yeho@mail.com',\n",
       "   'date': '2023-06-28T08:36:29Z'},\n",
       "  'committer': {'name': 'iudh',\n",
       "   'email': 'yeho@mail.com',\n",
       "   'date': '2023-06-28T08:36:29Z'},\n",
       "  'message': 'init',\n",
       "  'tree': {'sha': 'ea3e635c3a03928e2ee9b93d06657605acea735e',\n",
       "   'url': 'https://api.github.com/repos/DavidNPastrana/1.1-lab_bash/git/trees/ea3e635c3a03928e2ee9b93d06657605acea735e'},\n",
       "  'url': 'https://api.github.com/repos/DavidNPastrana/1.1-lab_bash/git/commits/b4a2a49bf60f2340623b2a23ddcedd08dea1844f',\n",
       "  'comment_count': 0,\n",
       "  'verification': {'verified': False,\n",
       "   'reason': 'unsigned',\n",
       "   'signature': None,\n",
       "   'payload': None}}]"
      ]
     },
     "execution_count": 16,
     "metadata": {},
     "output_type": "execute_result"
    }
   ],
   "source": [
    "list1 = []\n",
    "\n",
    "for e in repo_david.json():\n",
    "    \n",
    "    list1.append(e[\"commit\"])\n",
    "    \n",
    "list1"
   ]
  },
  {
   "cell_type": "code",
   "execution_count": 19,
   "id": "8db2154f",
   "metadata": {},
   "outputs": [
    {
     "data": {
      "text/plain": [
       "['author', 'author', 'author', 'author', 'author']"
      ]
     },
     "execution_count": 19,
     "metadata": {},
     "output_type": "execute_result"
    }
   ],
   "source": [
    "list2 = []\n",
    "\n",
    "for e in list1:\n",
    "    \n",
    "    if \"author\" in e:\n",
    "        \n",
    "        list2.append(\"author\")\n",
    "\n",
    "        \n",
    "list2"
   ]
  },
  {
   "cell_type": "code",
   "execution_count": 22,
   "id": "b8e5491c",
   "metadata": {},
   "outputs": [
    {
     "data": {
      "text/plain": [
       "5"
      ]
     },
     "execution_count": 22,
     "metadata": {},
     "output_type": "execute_result"
    }
   ],
   "source": [
    "list2.count(\"author\")"
   ]
  },
  {
   "cell_type": "code",
   "execution_count": null,
   "id": "acd61a5a",
   "metadata": {},
   "outputs": [],
   "source": []
  }
 ],
 "metadata": {
  "kernelspec": {
   "display_name": "Python 3 (ipykernel)",
   "language": "python",
   "name": "python3"
  },
  "language_info": {
   "codemirror_mode": {
    "name": "ipython",
    "version": 3
   },
   "file_extension": ".py",
   "mimetype": "text/x-python",
   "name": "python",
   "nbconvert_exporter": "python",
   "pygments_lexer": "ipython3",
   "version": "3.10.9"
  },
  "toc": {
   "base_numbering": 1,
   "nav_menu": {},
   "number_sections": true,
   "sideBar": true,
   "skip_h1_title": true,
   "title_cell": "Table of Contents",
   "title_sidebar": "Contents",
   "toc_cell": false,
   "toc_position": {
    "height": "calc(100% - 180px)",
    "left": "10px",
    "top": "150px",
    "width": "288px"
   },
   "toc_section_display": true,
   "toc_window_display": true
  }
 },
 "nbformat": 4,
 "nbformat_minor": 5
}
